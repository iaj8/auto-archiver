{
 "cells": [
  {
   "cell_type": "code",
   "execution_count": null,
   "id": "168fd0d8",
   "metadata": {},
   "outputs": [],
   "source": [
    "from google.cloud import pubsub_v1\n",
    "from google.oauth2 import service_account\n",
    "import json\n",
    "from pprint import pprint\n",
    "\n",
    "service_account_path = \"secrets/service_account.json\"\n",
    "project_id = \"nytint-stg\"\n",
    "subscription_id = \"vi_workflow_topic-sub\"\n",
    "\n",
    "credentials = service_account.Credentials.from_service_account_file(service_account_path)\n",
    "\n",
    "subscriber = pubsub_v1.SubscriberClient(credentials=credentials)\n",
    "subscription_path = subscriber.subscription_path(project_id, subscription_id)\n",
    "\n",
    "def callback(message):\n",
    "    print(f\"Received message\")\n",
    "    message_data = message.data.decode('utf-8')\n",
    "    message_dict = json.loads(message_data)\n",
    "\n",
    "    pprint(message_dict)\n",
    "    \n",
    "    message.ack()\n",
    "\n",
    "\n",
    "streaming_pull_future = subscriber.subscribe(subscription_path, callback=callback)\n",
    "print(f\"Listening for messages on {subscription_path}...\\n\")\n",
    "\n",
    "try:\n",
    "    streaming_pull_future.result()  # Block and wait for messages\n",
    "except KeyboardInterrupt:\n",
    "    streaming_pull_future.cancel()  # Trigger the shutdown\n",
    "    streaming_pull_future.result()  # Block until the shutdown is complete\n"
   ]
  }
 ],
 "metadata": {
  "kernelspec": {
   "display_name": "Python 3 (ipykernel)",
   "language": "python",
   "name": "python3"
  },
  "language_info": {
   "codemirror_mode": {
    "name": "ipython",
    "version": 3
   },
   "file_extension": ".py",
   "mimetype": "text/x-python",
   "name": "python",
   "nbconvert_exporter": "python",
   "pygments_lexer": "ipython3",
   "version": "3.11.4"
  }
 },
 "nbformat": 4,
 "nbformat_minor": 5
}
