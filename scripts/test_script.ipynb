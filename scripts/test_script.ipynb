{
 "cells": [
  {
   "cell_type": "code",
   "execution_count": 1,
   "id": "dcf3f6e6",
   "metadata": {},
   "outputs": [],
   "source": [
    "#!/usr/bin/env python\n",
    "# coding: utf-8\n",
    "\n",
    "from googleapiclient.discovery import build\n",
    "from google.oauth2 import service_account\n",
    "from google.cloud import storage\n",
    "from googleapiclient.http import MediaIoBaseDownload\n",
    "import io\n",
    "import os\n",
    "from pprint import pprint\n",
    "import base64\n",
    "from google.api_core import retry\n",
    "from datetime import datetime, timedelta\n",
    "\n",
    "import os\n",
    "from google.cloud import storage\n",
    "\n",
    "import gspread\n",
    "from gspread.exceptions import APIError\n",
    "import random\n",
    "import string\n",
    "import ffmpeg\n",
    "import hashlib\n",
    "from time import sleep\n",
    "\n",
    "from sync_drive_and_gcs import *\n",
    "\n",
    "SCOPES = ['https://www.googleapis.com/auth/drive']"
   ]
  },
  {
   "cell_type": "code",
   "execution_count": 2,
   "id": "771ec397",
   "metadata": {},
   "outputs": [
    {
     "name": "stdout",
     "output_type": "stream",
     "text": [
      "folders\n",
      "{'Auto Set Up Test DB': {'checksum': None,\n",
      "                         'id': '1z3qr0Q-q1umUB-hqbaZhQ_bNAWEdZJiR9bhRaVo3F6o',\n",
      "                         'mimeType': 'application/vnd.google-apps.spreadsheet',\n",
      "                         'thumbnailLink': 'https://lh3.googleusercontent.com/drive-storage/AJQWtBOt9NayJ_t8NiB90-jpde027XhrlsQtjCwD_90VLduISnjS3U6i6sZaddRoR8qQ8MEHFgQIH4dRvDO5qgTeu2H4TEDvvZztwKPyB8qJsiZlUoBigTlFryZZNcq-0w=s220'},\n",
      " 'media': {'checksum': None,\n",
      "           'id': '1Q_yMv8g-xcxOJdHcgNkOKEdEUh28yXNp',\n",
      "           'mimeType': 'application/vnd.google-apps.folder',\n",
      "           'thumbnailLink': None}}\n",
      "media_files\n",
      "{'3_botti_setup_en.mp4': {'checksum': '3ad0bcfd9ea709ea69bf49b792d73d93',\n",
      "                          'id': '1kGfFciYhyeXTg9VYDmELY9z80VMRJFO7',\n",
      "                          'mimeType': 'video/mp4',\n",
      "                          'thumbnailLink': 'https://lh3.googleusercontent.com/drive-storage/AJQWtBOEJI1-uVOLdWz4tQEzejeU_GrKfMgVxcnv1hHP_ssQ_l9MbYjOOT8cjGE7KWUssL-j-oMPKJEU6QPcQZnfWvMB8kMJP24rbrTNcegBSp6-mw=s220'},\n",
      " '4_botti_setup_iu.mp4': {'checksum': '3a7b31962585f04312ccb978a3cf052c',\n",
      "                          'id': '1o8M9CR0cW-MutRknT2SuqRctHUyFVvsN',\n",
      "                          'mimeType': 'video/mp4',\n",
      "                          'thumbnailLink': None},\n",
      " '4_botti_setup_jd.mp4': {'checksum': '3a7b31962585f04312ccb978a3cf052c',\n",
      "                          'id': '1ZH1x1nUh3rB5XQxZi_4ONdHdJzz7c15t',\n",
      "                          'mimeType': 'video/mp4',\n",
      "                          'thumbnailLink': 'https://lh3.googleusercontent.com/drive-storage/AJQWtBMbMwOqH1YpGuapbHDxY8dUqw7NMgX6chaqfbwcIQ_7DYvFJH_TaaUqa6ir-PHaBcDJEBPk8rfFlXUMtNV6fRhliguq7pOTE9r01zx8I_MPNA=s220'},\n",
      " '5_botti_setup_xo.mp4': {'checksum': '3ad0bcfd9ea709ea69bf49b792d73d93',\n",
      "                          'id': '1aVL_8hhfmhAuBqf3vS21WbqI9g0KzGqs',\n",
      "                          'mimeType': 'video/mp4',\n",
      "                          'thumbnailLink': 'https://lh3.googleusercontent.com/drive-storage/AJQWtBO__KhbN8RqYOS-fkb3QJeb5KJHe-tn3l8lH-lmpUbSVek7gzeSZgEsqX9yi7I_bUfsVnXxWkyzmBGwlDZabLlz1DkO4SoSInjFheVrsHCkUA=s220'}}\n"
     ]
    }
   ],
   "source": [
    "service_account_path = \"../secrets/service_account.json\"\n",
    "top_level_drive_folder = \"1BNWZONXt-4z6o-gpv20Wd5pE2ytMQIge\"\n",
    "\n",
    "creds = service_account.Credentials.from_service_account_file(service_account_path, scopes=SCOPES)\n",
    "service = build('drive', 'v3', credentials=creds)\n",
    "    \n",
    "folders = list_files_in_drive_folder(service, top_level_drive_folder)\n",
    "\n",
    "print(\"folders\")\n",
    "pprint(folders)\n",
    "\n",
    "media_files = list_files_in_drive_folder(service, folders['media']['id'])\n",
    "print(\"media_files\")\n",
    "pprint(media_files)\n"
   ]
  },
  {
   "cell_type": "code",
   "execution_count": 3,
   "id": "36a11cea",
   "metadata": {},
   "outputs": [
    {
     "name": "stdout",
     "output_type": "stream",
     "text": [
      "[searching name='4_botti_setup_iu.mp4' in parent_id='1Q_yMv8g-xcxOJdHcgNkOKEdEUh28yXNp']\n",
      "[{'id': '1o8M9CR0cW-MutRknT2SuqRctHUyFVvsN', 'name': '4_botti_setup_iu.mp4'}]\n"
     ]
    }
   ],
   "source": [
    "name = \"4_botti_setup_iu.mp4\"\n",
    "parent_id = \"1Q_yMv8g-xcxOJdHcgNkOKEdEUh28yXNp\"\n",
    "print(f\"[searching {name=} in {parent_id=}]\")\n",
    "\n",
    "query_string = f\"'{parent_id}' in parents and name = '{name}' and trashed = false \"\n",
    "\n",
    "results = service.files().list(\n",
    "    # both below for Google Shared Drives\n",
    "    supportsAllDrives=True,\n",
    "    includeItemsFromAllDrives=True,\n",
    "    q=query_string,\n",
    "    spaces='drive',  # ie not appDataFolder or photos\n",
    "    fields='files(id, name)'\n",
    ").execute()\n",
    "items = results.get('files', [])\n",
    "\n",
    "print(items)"
   ]
  },
  {
   "cell_type": "code",
   "execution_count": null,
   "id": "490ceb83",
   "metadata": {},
   "outputs": [],
   "source": []
  }
 ],
 "metadata": {
  "kernelspec": {
   "display_name": "Python 3 (ipykernel)",
   "language": "python",
   "name": "python3"
  },
  "language_info": {
   "codemirror_mode": {
    "name": "ipython",
    "version": 3
   },
   "file_extension": ".py",
   "mimetype": "text/x-python",
   "name": "python",
   "nbconvert_exporter": "python",
   "pygments_lexer": "ipython3",
   "version": "3.11.4"
  }
 },
 "nbformat": 4,
 "nbformat_minor": 5
}
